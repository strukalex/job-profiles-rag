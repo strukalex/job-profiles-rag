{
 "cells": [
  {
   "cell_type": "code",
   "execution_count": null,
   "metadata": {},
   "outputs": [],
   "source": [
    "from langchain_huggingface import HuggingFaceEmbeddings\n",
    "from langchain_chroma import Chroma\n",
    "from azure.ai.inference import ChatCompletionsClient\n",
    "from azure.core.credentials import AzureKeyCredential\n",
    "from dotenv import load_dotenv\n",
    "import os"
   ]
  },
  {
   "cell_type": "code",
   "execution_count": null,
   "metadata": {},
   "outputs": [],
   "source": [
    "load_dotenv()  # loads variables from .env\n",
    "AZURE_ENDPOINT=os.getenv('AZURE_ENDPOINT')\n",
    "AZURE_API_KEY=os.getenv('AZURE_API_KEY')"
   ]
  },
  {
   "cell_type": "code",
   "execution_count": null,
   "metadata": {},
   "outputs": [],
   "source": [
    "# Initialize the same embeddings model\n",
    "embeddings = HuggingFaceEmbeddings(model_name=\"all-MiniLM-L6-v2\")\n",
    "\n",
    "# Load the existing vector store\n",
    "vectorstore = Chroma(\n",
    "    persist_directory=\"../job_profiles_db\",\n",
    "    embedding_function=embeddings,\n",
    "    collection_name=\"job_profiles\"\n",
    ")"
   ]
  },
  {
   "cell_type": "code",
   "execution_count": 4,
   "metadata": {},
   "outputs": [],
   "source": [
    "# Retrieve context documents\n",
    "query = \"Which job profiles have software developer releated skills?\"\n",
    "context_docs = vectorstore.similarity_search(query, k=3)\n",
    "context = \"\\n\\n\".join([doc.page_content for doc in context_docs])"
   ]
  },
  {
   "cell_type": "code",
   "execution_count": 5,
   "metadata": {},
   "outputs": [
    {
     "name": "stdout",
     "output_type": "stream",
     "text": [
      "title: Dev Ops Specialist\n",
      "overview: This position is responsible for creating and maintaining a fully automated DevOps development and production environment including automated code migration, and testing processes and tools for effective iterative software development. To create technical design specifications, evaluate existing applications and platforms, and review application modules for quality assurance. To evaluate new application packages and tools and develop user guides and training documentation.\n",
      "\n",
      "title: Program Advisor\n",
      "overview: The Program Advisor is accountable to attract and select the global skills and business talent British Columbia needs.  The Program Advisor may work in either the Skills Immigration or Entrepreneur Immigration Units of the PNP. The Skills Immigration Unit supports BC employers to recruit and retain qualified foreign workers to help meet their current and future skill needs, and whose activities contribute to the Province’s economic development objectives. The Entrepreneur Immigration Unit selects foreign entrepreneurs who have the skills and capital to establish and actively manage a business venture that will contribute significant economic benefits to BC.\n",
      "\n",
      "title: Youth Employ Prog 1 or 2\n",
      "overview: Insert a high-level overview of what the job entails.\n"
     ]
    }
   ],
   "source": [
    "print(context)"
   ]
  },
  {
   "cell_type": "code",
   "execution_count": 6,
   "metadata": {},
   "outputs": [],
   "source": [
    "PROMPT_TEMPLATE = f\"\"\"System: You're an expert in answering questions about a library of job profiles. Use this context:\n",
    "{context}\n",
    "\n",
    "User: {query}\n",
    "Assistant: \"\"\""
   ]
  },
  {
   "cell_type": "code",
   "execution_count": 8,
   "metadata": {},
   "outputs": [],
   "source": [
    "# Initialize Azure client\n",
    "client = ChatCompletionsClient(\n",
    "    endpoint=AZURE_ENDPOINT,\n",
    "    credential=AzureKeyCredential(AZURE_API_KEY),\n",
    "    model=\"Mistral-small\"\n",
    ")\n",
    "\n",
    "# Create and send request\n",
    "response = client.complete(\n",
    "    messages=[\n",
    "        {\"role\": \"user\", \"content\": PROMPT_TEMPLATE}\n",
    "    ],\n",
    "    max_tokens=300,\n",
    "    temperature=0.7,\n",
    ")"
   ]
  },
  {
   "cell_type": "code",
   "execution_count": 12,
   "metadata": {},
   "outputs": [
    {
     "name": "stdout",
     "output_type": "stream",
     "text": [
      "Response: Based on the provided information, the Dev Ops Specialist job profile has software developer-related skills. This role involves creating and maintaining a fully automated DevOps development and production environment, including automated code migration and testing processes.\n"
     ]
    }
   ],
   "source": [
    "# Process response\n",
    "if response and response.choices:\n",
    "    print(\"Response:\", response.choices[0].message.content)\n",
    "else:\n",
    "    print(\"No response received\")"
   ]
  }
 ],
 "metadata": {
  "kernelspec": {
   "display_name": "job-profiles-rag-gqqwjc62-py3.10",
   "language": "python",
   "name": "python3"
  },
  "language_info": {
   "codemirror_mode": {
    "name": "ipython",
    "version": 3
   },
   "file_extension": ".py",
   "mimetype": "text/x-python",
   "name": "python",
   "nbconvert_exporter": "python",
   "pygments_lexer": "ipython3",
   "version": "3.10.12"
  }
 },
 "nbformat": 4,
 "nbformat_minor": 2
}
