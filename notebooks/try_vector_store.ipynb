{
 "cells": [
  {
   "cell_type": "code",
   "execution_count": 1,
   "metadata": {},
   "outputs": [],
   "source": [
    "from langchain_huggingface import HuggingFaceEmbeddings\n",
    "from langchain_chroma import Chroma\n",
    "\n",
    "# Initialize the same embeddings model\n",
    "embeddings = HuggingFaceEmbeddings(model_name=\"all-MiniLM-L6-v2\")\n",
    "\n",
    "# Load the existing vector store\n",
    "vectorstore = Chroma(\n",
    "    persist_directory=\"../job_profiles_db\",\n",
    "    embedding_function=embeddings,\n",
    "    collection_name=\"job_profiles\"\n",
    ")"
   ]
  },
  {
   "cell_type": "code",
   "execution_count": 2,
   "metadata": {},
   "outputs": [
    {
     "name": "stdout",
     "output_type": "stream",
     "text": [
      "525\n"
     ]
    }
   ],
   "source": [
    "print(vectorstore._collection.count())"
   ]
  },
  {
   "cell_type": "code",
   "execution_count": 5,
   "metadata": {},
   "outputs": [],
   "source": [
    "query = \"provide technical project management\"\n",
    "results = vectorstore.similarity_search(query, k=3)"
   ]
  },
  {
   "cell_type": "code",
   "execution_count": 6,
   "metadata": {},
   "outputs": [
    {
     "data": {
      "text/plain": [
       "[Document(id='648fa22d-e569-42ac-bb84-b1ca607628ac', metadata={'row': 256, 'source': '../data/job profiles/2025-02-07_profiles.csv'}, page_content='title: Project Administrator\\noverview: To provide technical project management coordination for large-scale projects throughout the project management life cycle (i.e., initiation, planning, execution, control, and close-out). To prepare documentation on project initiatives through the identification, gathering, analysis and compilation of data. To contribute to project planning sessions with team members and make recommendations to re-allocate and adjust resources and timelines. To also be an assigned representative on project teams.'),\n",
       " Document(id='9e4f3349-275a-4d16-ada7-09df24f8edd2', metadata={'row': 82, 'source': '../data/job profiles/2025-02-07_profiles.csv'}, page_content='title: Technical Architect\\noverview: To plan, organize and manage projects related to the implementation of new hardware, network and operating systems and supporting software infrastructures and services. Project deliverables will support the business applications and data resources of the ministry and share common technology components in a secure environment. To research and evaluate technology architecture and may supervise a team of technical and professional staff.'),\n",
       " Document(id='4607698b-14c5-4852-9db9-5acbf55d5c32', metadata={'row': 257, 'source': '../data/job profiles/2025-02-07_profiles.csv'}, page_content='title: Project Coordinator\\noverview: To provide technical project management coordination functions for a variety of large-scale complex projects throughout the project management life cycle (i.e., initiation, planning, execution, control, and close-out) and is directly accountable for assigned portions (e.g., sub projects) of larger projects as a project team member. To maintain all project documentation such as project charter, status reports, approvals, costs and risks, and close-out.')]"
      ]
     },
     "execution_count": 6,
     "metadata": {},
     "output_type": "execute_result"
    }
   ],
   "source": [
    "results"
   ]
  },
  {
   "cell_type": "code",
   "execution_count": 8,
   "metadata": {},
   "outputs": [
    {
     "data": {
      "text/plain": [
       "[(Document(id='648fa22d-e569-42ac-bb84-b1ca607628ac', metadata={'row': 256, 'source': '../data/job profiles/2025-02-07_profiles.csv'}, page_content='title: Project Administrator\\noverview: To provide technical project management coordination for large-scale projects throughout the project management life cycle (i.e., initiation, planning, execution, control, and close-out). To prepare documentation on project initiatives through the identification, gathering, analysis and compilation of data. To contribute to project planning sessions with team members and make recommendations to re-allocate and adjust resources and timelines. To also be an assigned representative on project teams.'),\n",
       "  0.5742406023553933),\n",
       " (Document(id='9e4f3349-275a-4d16-ada7-09df24f8edd2', metadata={'row': 82, 'source': '../data/job profiles/2025-02-07_profiles.csv'}, page_content='title: Technical Architect\\noverview: To plan, organize and manage projects related to the implementation of new hardware, network and operating systems and supporting software infrastructures and services. Project deliverables will support the business applications and data resources of the ministry and share common technology components in a secure environment. To research and evaluate technology architecture and may supervise a team of technical and professional staff.'),\n",
       "  0.7406107786564825),\n",
       " (Document(id='4607698b-14c5-4852-9db9-5acbf55d5c32', metadata={'row': 257, 'source': '../data/job profiles/2025-02-07_profiles.csv'}, page_content='title: Project Coordinator\\noverview: To provide technical project management coordination functions for a variety of large-scale complex projects throughout the project management life cycle (i.e., initiation, planning, execution, control, and close-out) and is directly accountable for assigned portions (e.g., sub projects) of larger projects as a project team member. To maintain all project documentation such as project charter, status reports, approvals, costs and risks, and close-out.'),\n",
       "  0.7856196753291589)]"
      ]
     },
     "execution_count": 8,
     "metadata": {},
     "output_type": "execute_result"
    }
   ],
   "source": [
    "vectorstore.similarity_search_with_score(query,k=3)"
   ]
  }
 ],
 "metadata": {
  "kernelspec": {
   "display_name": "job-profiles-rag-jjdb_p5q-py3.13",
   "language": "python",
   "name": "python3"
  },
  "language_info": {
   "codemirror_mode": {
    "name": "ipython",
    "version": 3
   },
   "file_extension": ".py",
   "mimetype": "text/x-python",
   "name": "python",
   "nbconvert_exporter": "python",
   "pygments_lexer": "ipython3",
   "version": "3.13.1"
  }
 },
 "nbformat": 4,
 "nbformat_minor": 2
}
